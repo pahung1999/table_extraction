{
 "cells": [
  {
   "cell_type": "code",
   "execution_count": 1,
   "metadata": {},
   "outputs": [],
   "source": [
    "\n",
    "from vietocr.tool.config import get_config, list_configs\n",
    "from vietocr.tool.predictor import Predictor\n",
    "from vietocr import sample_images\n",
    "\n",
    "from PIL import Image\n",
    "import os\n",
    "\n",
    "import matplotlib.pyplot as plt\n",
    "import cv2\n"
   ]
  },
  {
   "cell_type": "code",
   "execution_count": null,
   "metadata": {},
   "outputs": [],
   "source": [
    "!pip install -U 'git+https://github.com/ndgnuh/vietocr'"
   ]
  },
  {
   "cell_type": "code",
   "execution_count": 3,
   "metadata": {},
   "outputs": [],
   "source": [
    "#Show img\n",
    "def plot_img(img,size = (10,10)):\n",
    "    plt.figure(figsize=size)\n",
    "    plt.imshow(img)\n",
    "    plt.axis('off')\n",
    "    plt.show()\n"
   ]
  },
  {
   "cell_type": "code",
   "execution_count": 2,
   "metadata": {},
   "outputs": [
    {
     "data": {
      "text/plain": [
       "['fvtr_t',\n",
       " 'fvtr_v2_t@vn',\n",
       " 'fvtr_v2_t@kr',\n",
       " 'inception_v3_seq2seq',\n",
       " 'inception_v3_seq2seq_large',\n",
       " 'mobilenet_v3l_seq2seq',\n",
       " 'resnet50_seq2seq',\n",
       " 'vgg_transformer',\n",
       " 'vgg_seq2seq']"
      ]
     },
     "execution_count": 2,
     "metadata": {},
     "output_type": "execute_result"
    }
   ],
   "source": [
    "configs = list_configs()\n",
    "configs"
   ]
  },
  {
   "cell_type": "code",
   "execution_count": 5,
   "metadata": {},
   "outputs": [
    {
     "name": "stderr",
     "output_type": "stream",
     "text": [
      "Downloading...\n",
      "From: https://github.com/ndgnuh/vietocr/releases/download/weights/fvtr_v2_t@vn.pth\n",
      "To: /home/phung/AnhHung/streamlit/TableExtraction/fvtr_v2_t@vn.pth\n",
      "100%|██████████| 15.8M/15.8M [00:01<00:00, 10.1MB/s]"
     ]
    },
    {
     "name": "stdout",
     "output_type": "stream",
     "text": [
      "Mismatch keys:\n",
      "\n"
     ]
    },
    {
     "name": "stderr",
     "output_type": "stream",
     "text": [
      "\n"
     ]
    }
   ],
   "source": [
    "config = get_config('fvtr_v2_t@vn')\n",
    "predictor = Predictor(config, reset_cache=True) "
   ]
  },
  {
   "cell_type": "code",
   "execution_count": 19,
   "metadata": {},
   "outputs": [],
   "source": [
    "image_dir = \"/home/phung/AnhHung/data/1_drive_data/text_recognition/checked_data_all/augment_vi_01/10_05/images/\"\n",
    "\n",
    "image_path = \"/home/phung/AnhHung/temp/blackimg.jpeg\""
   ]
  },
  {
   "cell_type": "code",
   "execution_count": 20,
   "metadata": {},
   "outputs": [
    {
     "name": "stderr",
     "output_type": "stream",
     "text": [
      "/home/phung/AnhHung/streamlit/TableExtraction/.working/lib/python3.11/site-packages/torch/nn/modules/activation.py:1160: UserWarning: Converting mask without torch.bool dtype to bool; this will negatively affect performance. Prefer to use a boolean mask directly. (Triggered internally at ../aten/src/ATen/native/transformers/attention.cpp:150.)\n",
      "  return torch._native_multi_head_attention(\n"
     ]
    }
   ],
   "source": [
    "# for image_file in os.listdir(image_dir):\n",
    "    \n",
    "# image_path = os.path.join(image_dir, image_file)\n",
    "\n",
    "img = Image.open(image_path)\n",
    "result = predictor(img)[0][0]\n",
    "\n",
    "    # break"
   ]
  }
 ],
 "metadata": {
  "kernelspec": {
   "display_name": ".working",
   "language": "python",
   "name": "python3"
  },
  "language_info": {
   "codemirror_mode": {
    "name": "ipython",
    "version": 3
   },
   "file_extension": ".py",
   "mimetype": "text/x-python",
   "name": "python",
   "nbconvert_exporter": "python",
   "pygments_lexer": "ipython3",
   "version": "3.11.2"
  },
  "orig_nbformat": 4
 },
 "nbformat": 4,
 "nbformat_minor": 2
}
